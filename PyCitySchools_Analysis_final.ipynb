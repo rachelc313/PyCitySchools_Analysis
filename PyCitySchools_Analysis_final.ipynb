{
 "cells": [
  {
   "cell_type": "markdown",
   "id": "9c960cd6-a10b-4e3d-ba23-fe7a3ef7ae95",
   "metadata": {},
   "source": [
    "### Import required dependencies"
   ]
  },
  {
   "cell_type": "code",
   "execution_count": null,
   "id": "34266c40-c789-42cd-802f-83eedddc4138",
   "metadata": {},
   "outputs": [],
   "source": [
    "import pandas as pd\n",
    "import os\n",
    "\n",
    "#Using numpy because when I converted 'grade' to integer without numpy it was stored as int32 instead of in64.\n",
    "import numpy as np"
   ]
  },
  {
   "cell_type": "markdown",
   "id": "a47f3bec-4c1a-4b1e-9747-546678c1bb82",
   "metadata": {},
   "source": [
    "## Deliverable 1: Collect the Data\n",
    "\n",
    "To collect the data that you’ll need, complete the following steps:\n",
    "\n",
    "1. Using the Pandas `read_csv` function and the `os` module, import the data from the `new_full_student_data.csv` file, and create a DataFrame called student_df. \n",
    "\n",
    "2. Use the head function to confirm that Pandas properly imported the data.\n"
   ]
  },
  {
   "cell_type": "code",
   "execution_count": null,
   "id": "b9d76875-49a9-4591-83d6-2e784bffcb21",
   "metadata": {},
   "outputs": [],
   "source": [
    "# Create the path and import the data\n",
    "full_student_data = os.path.join('Resources/new_full_student_data.csv')\n",
    "student_df = pd.read_csv(full_student_data)"
   ]
  },
  {
   "cell_type": "code",
   "execution_count": null,
   "id": "c73ce640-ae34-4d45-9714-40eb55855d94",
   "metadata": {},
   "outputs": [],
   "source": [
    "# Verify that the data was properly imported\n",
    "student_df.head()"
   ]
  },
  {
   "cell_type": "markdown",
   "id": "d7f4b183-8e6a-4d83-9d40-a5fd665ac07f",
   "metadata": {},
   "source": [
    "## Deliverable 2: Prepare the Data\n",
    "\n",
    "To prepare and clean your data for analysis, complete the following steps:\n",
    "    \n",
    "1. Check for and remove all rows with `NaN`, or missing, values in the student DataFrame. \n",
    "\n",
    "2. Check for and remove all duplicate rows in the student DataFrame.\n",
    "\n",
    "3. Use the `str.replace` function to remove the \"th\" from the grade levels in the grade column.\n",
    "\n",
    "4. Check data types using the `dtypes` property.\n",
    "\n",
    "5. Remove the \"th\" suffix from every value in the grade column using `str` and `replace`.\n",
    "\n",
    "6. Change the grade colum to the `int` type and verify column types.\n",
    "\n",
    "7. Use the head (and/or the tail) function to preview the DataFrame."
   ]
  },
  {
   "cell_type": "code",
   "execution_count": null,
   "id": "9464841c",
   "metadata": {},
   "outputs": [],
   "source": [
    "# Check for null values\n",
    "student_df.isna().sum()"
   ]
  },
  {
   "cell_type": "code",
   "execution_count": null,
   "id": "ab80d5e8-0294-459e-9d68-19d7fe98c75e",
   "metadata": {},
   "outputs": [],
   "source": [
    "# Drop rows with null values and verify removal\n",
    "student_df = student_df.dropna()\n",
    "student_df.isna().sum()"
   ]
  },
  {
   "cell_type": "code",
   "execution_count": null,
   "id": "2292509a-c429-45e2-aa62-bb0397091c76",
   "metadata": {},
   "outputs": [],
   "source": [
    "# Check for duplicated rows\n",
    "student_df.duplicated().sum()"
   ]
  },
  {
   "cell_type": "code",
   "execution_count": null,
   "id": "95c0c53e-602f-44a0-b72a-3383dcce09fc",
   "metadata": {},
   "outputs": [],
   "source": [
    "# Drop duplicated rows and verify removal\n",
    "student_df = student_df.drop_duplicates()\n",
    "student_df.duplicated().sum()"
   ]
  },
  {
   "cell_type": "code",
   "execution_count": null,
   "id": "d04088bb-df5a-47b0-990a-c6127bfc9bfd",
   "metadata": {},
   "outputs": [],
   "source": [
    "# Check data types\n",
    "student_df.dtypes"
   ]
  },
  {
   "cell_type": "code",
   "execution_count": null,
   "id": "f1e2d12e-c56d-47bc-b9a0-01f97400c4a3",
   "metadata": {},
   "outputs": [],
   "source": [
    "# Examine the grade column to understand why it is not an int\n",
    "student_df['grade']"
   ]
  },
  {
   "cell_type": "code",
   "execution_count": null,
   "id": "29b32018",
   "metadata": {},
   "outputs": [],
   "source": [
    "# Remove the non-numeric characters and verify the contents of the column\n",
    "student_df['grade'] = student_df['grade'].str.replace('th','')\n",
    "student_df['grade']"
   ]
  },
  {
   "cell_type": "code",
   "execution_count": null,
   "id": "09ebbec2-c5a7-49a9-9a21-f86c0f4c3791",
   "metadata": {},
   "outputs": [],
   "source": [
    "# Change the grade column to the int type and verify column types\n",
    "student_df['grade'] = pd.to_numeric(student_df['grade'])\n",
    "student_df.dtypes"
   ]
  },
  {
   "cell_type": "markdown",
   "id": "e52c4a6f-7dd7-4bb6-8f75-5f0995e7b32b",
   "metadata": {},
   "source": [
    "## Deliverable 3: Summarize the Data\n",
    "\n",
    "Describe the data using summary statistics on the data as a whole and on individual columns.\n",
    "\n",
    "1. Generate the summary statistics for each DataFrame by using the `describe` function.\n",
    "\n",
    "2. Display the mean math score using the `mean` function. \n",
    "\n",
    "2. Store the minimum reading score as `min_reading_score`."
   ]
  },
  {
   "cell_type": "code",
   "execution_count": null,
   "id": "ac4fc0af-babd-47fb-9962-66727ea0dc28",
   "metadata": {},
   "outputs": [],
   "source": [
    "# Display summary statistics for the DataFrame\n",
    "student_df.describe()"
   ]
  },
  {
   "cell_type": "code",
   "execution_count": null,
   "id": "d94aa5d1",
   "metadata": {},
   "outputs": [],
   "source": [
    "# Display the mean math score using the mean function\n",
    "#Call the column \"math_score\" then find mean\n",
    "student_df[\"math_score\"].mean()"
   ]
  },
  {
   "cell_type": "code",
   "execution_count": null,
   "id": "37ecf181",
   "metadata": {},
   "outputs": [],
   "source": [
    "# Store the minimum reading score as min_reading_score\n",
    "min_reading_score = student_df['reading_score'].min()\n"
   ]
  },
  {
   "cell_type": "markdown",
   "id": "e871f21e-6077-4d70-9c3a-926759d46bed",
   "metadata": {},
   "source": [
    "## Deliverable 4: Drill Down into the Data\n",
    "\n",
    "Drill down to specific rows, columns, and subsets of the data.\n",
    "\n",
    "To drill down into the data, complete the following steps:\n",
    "\n",
    "1. Use `loc` to display the grade column.\n",
    "\n",
    "2. Use `iloc` to display the first 3 rows and columns 3, 4, and 5.\n",
    "\n",
    "3. Show the rows for grade nine using `loc`.\n",
    "\n",
    "4. Store the row with the minimum overall reading score as `min_reading_row` using `loc` and the `min_reading_score` found in Deliverable 3.\n",
    "\n",
    "5. Find the reading scores for the school and grade from the output of step three using `loc` with multiple conditional statements.\n",
    "\n",
    "6. Using conditional statements and `loc` or `iloc`, find the mean reading score for all students in grades 11 and 12 combined."
   ]
  },
  {
   "cell_type": "code",
   "execution_count": null,
   "id": "78464611",
   "metadata": {},
   "outputs": [],
   "source": [
    "# Use loc to display the grade column\n",
    "student_df.loc[:, \"grade\"]"
   ]
  },
  {
   "cell_type": "code",
   "execution_count": null,
   "id": "ff0fd7cb",
   "metadata": {},
   "outputs": [],
   "source": [
    "# Use `iloc` to display the first 3 rows and columns 3, 4, and 5.\n",
    "# First section in brackets notates the range of the row, then the second section are the indexes requested in the delivarable. \n",
    "# *Note, the deliverable asked for \"columns 3, 4, and 5, but the image on the challenge page displayed showed \"indexes\" 3, 4, and 5.\n",
    "student_df.iloc[0:3, [3, 4, 5]]"
   ]
  },
  {
   "cell_type": "code",
   "execution_count": null,
   "id": "edb8027e",
   "metadata": {},
   "outputs": [],
   "source": [
    "# Select the rows for grade nine and display their summary statistics using `loc` and `describe`\n",
    "# (Do not put '9' in quotes after the double equals)\n",
    "ninth_grade_stats_df = student_df.loc[student_df[\"grade\"] == 9]\n",
    "ninth_grade_stats_df.describe()"
   ]
  },
  {
   "cell_type": "code",
   "execution_count": null,
   "id": "e40b203d-6597-487a-82cf-157731148084",
   "metadata": {},
   "outputs": [],
   "source": [
    "# Store the row with the minimum overall reading score as `min_reading_row`\n",
    "# using `loc` and the `min_reading_score` found in Deliverable 3.\n",
    "min_reading_row = student_df.loc[student_df[\"reading_score\"] == min_reading_score]\n",
    "min_reading_row"
   ]
  },
  {
   "cell_type": "code",
   "execution_count": null,
   "id": "f4a44f87-acb8-423e-95ca-88e6f644eeb2",
   "metadata": {},
   "outputs": [],
   "source": [
    "# Use loc with conditionals to select all reading scores from 10th graders at Dixon High School.\n",
    "\n",
    "\n",
    "#First: Create dixon high school dataframe using loc.\n",
    "dixon_high_df = student_df.loc[student_df[\"school_name\"] == \"Dixon High School\"]\n",
    "\n",
    "#Second: Create dixon high 10th graders data frame using loc.\n",
    "dixon_tenth_df = dixon_high_df.loc[dixon_high_df[\"grade\"] == 10]\n",
    "\n",
    "#Third: Display requested data, using iloc, all rows(:) then 3rd and 4th indexes.\n",
    "dixon_tenth_df.iloc[:, [3, 4]]\n"
   ]
  },
  {
   "cell_type": "code",
   "execution_count": null,
   "id": "d6c2a244-c8aa-4cf6-a1e2-ddace72666eb",
   "metadata": {},
   "outputs": [],
   "source": [
    "# Find the mean reading score for all students in grades 11 and 12 combined.\n",
    "student_df.loc[student_df[\"grade\"] >= 11, \"reading_score\"].mean()"
   ]
  },
  {
   "cell_type": "markdown",
   "id": "177ba341-9b50-4244-93fa-3646120daf51",
   "metadata": {},
   "source": [
    "## Deliverable 5: Make Comparisons Between District and Charter Schools\n",
    "\n",
    "Compare district vs charter schools for budget, size, and scores.\n",
    "\n",
    "Make comparisons within your data by completing the following steps:\n",
    "\n",
    "1. Using the `groupby` and `mean` functions, look at the average reading and math scores per school type.\n",
    "\n",
    "1. Using the `groupby` and `count` functions, find the total number of students at each school.\n",
    "\n",
    "2. Using the `groupby` and `mean` functions, find the average budget per grade for each school type."
   ]
  },
  {
   "cell_type": "code",
   "execution_count": null,
   "id": "8eac115a-c392-446c-ad83-456d0f87eca7",
   "metadata": {},
   "outputs": [],
   "source": [
    "# Use groupby and mean to find the average reading and math scores for each school type.\n",
    "#First aggregate the requested data\n",
    "avg_scores_by_type = student_df.groupby([\"school_type\", \"grade\"]).mean()\n",
    "\n",
    "#Then display data\n",
    "avg_scores_by_type.loc[:, [\"math_score\", \"reading_score\"]]"
   ]
  },
  {
   "cell_type": "code",
   "execution_count": null,
   "id": "a3ee96e8-d653-44b1-811f-979880649046",
   "metadata": {},
   "outputs": [],
   "source": [
    "# Use the `groupby`, `count`, and `sort_values` functions to find the\n",
    "# total number of students at each school and sort from most students to least students.\n",
    "\n",
    "#First set a variable to hold student name in order to add a new column\n",
    "count = student_df[\"student_name\"]\n",
    "\n",
    "#set the new column name\n",
    "student_df[\"student_count\"] = count\n",
    "\n",
    "#aggregate the data for count by school\n",
    "students_by_school = student_df.groupby(\"school_name\").count()\n",
    "\n",
    "#Create a dataframe to show student count by school\n",
    "total_students_by_school_df = students_by_school.loc[:, [\"student_count\"]]\n",
    "\n",
    "#Sort by count from largest to smallest\n",
    "total_students_by_school_df.sort_values(by=\"student_count\", ascending=False)\n",
    "\n",
    "\n"
   ]
  },
  {
   "cell_type": "code",
   "execution_count": null,
   "id": "3e9018ab-17db-431d-98ef-0c7195b647bb",
   "metadata": {},
   "outputs": [],
   "source": [
    "# Using the groupby and mean functions, find the average budget per grade for each school type.\n",
    "\n",
    "#First aggregate the requested data\n",
    "avg_budget_by_school_type = student_df.groupby([\"school_type\", \"grade\"]).mean()\n",
    "\n",
    "#Then display data\n",
    "avg_budget_by_school_type.loc[:, [\"school_budget\"]]"
   ]
  },
  {
   "cell_type": "markdown",
   "id": "bbd0576f-e986-457c-930f-0eb8ee435b57",
   "metadata": {},
   "source": [
    "# Deliverable 6: Summarize Your Findings\n",
    "In the cell below, write a few sentences to describe any discoveries you made while performing your analysis along with any additional analysis you believe would be worthwhile."
   ]
  },
  {
   "cell_type": "markdown",
   "id": "396f269c-7081-4e43-a203-0a2750b51fa4",
   "metadata": {},
   "source": [
    "There are limitations to the dataset used. After the data was collected, there were 2950 \"null\" \n",
    "values found: 1968 in the \"reading_score\" column and 982 in the \"math_score\" column. These \n",
    "entire rows were removed from the dataframe to better analyze the data. Next, there were \n",
    "1836 duplicates found and removed. This possibly could affect the results.\n",
    "\n",
    "A brief analysis of the charter/public school average scores versus the budgets shows that \n",
    "Public schools have a higher budget on average per grade. Additional analysis of the math and \n",
    "reading scores and their correlation with the budgets would be worthwhile. Drilling down this\n",
    "data down to grade, school, or school type and placing it into a line graph with\n",
    "the budget for the grade, school, school type, etc could be on the y axis while the scores could\n",
    "be on the x axis and the math scores could be plotted in one color and reading scores could be\n",
    "plotted in another. These could be actual scores depending on the level of analysis is desire or\n",
    "they could be averages. The same could be said for the budgets, as long as it is clearly notated.\n",
    "\n",
    "Knowing the pass or fail criteria could help analyze the data further and a \"meets requirements\" \n",
    "or \"needs attention\"status could be assigned to each grade, school, school type, etc. This could \n",
    "help easier to compare the data side by side and possibly help determine where to obtain more detailed data for the school \n",
    "districts to use when developing and executing the budget."
   ]
  }
 ],
 "metadata": {
  "kernelspec": {
   "display_name": "Python 3 (ipykernel)",
   "language": "python",
   "name": "python3"
  },
  "language_info": {
   "codemirror_mode": {
    "name": "ipython",
    "version": 3
   },
   "file_extension": ".py",
   "mimetype": "text/x-python",
   "name": "python",
   "nbconvert_exporter": "python",
   "pygments_lexer": "ipython3",
   "version": "3.7.13"
  }
 },
 "nbformat": 4,
 "nbformat_minor": 5
}
